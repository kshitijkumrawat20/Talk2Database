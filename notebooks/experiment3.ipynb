{
 "cells": [
  {
   "cell_type": "code",
   "execution_count": null,
   "id": "54f977a2",
   "metadata": {},
   "outputs": [
    {
     "name": "stdout",
     "output_type": "stream",
     "text": [
      "Database connection successful!\n",
      "Database connection successful!\n",
      "creating _create_query_tool\n",
      "Initialized tool: sql_db_query\n",
      "Initialized tool: sql_db_schema\n",
      "Initialized tool: sql_db_list_tables\n",
      "Initialized tool: sql_db_query_checker\n",
      "Intializing Workflow....\n"
     ]
    },
    {
     "data": {
      "text/plain": [
       "<langchain_community.utilities.sql_database.SQLDatabase at 0x1912b8cee90>"
      ]
     },
     "execution_count": 4,
     "metadata": {},
     "output_type": "execute_result"
    }
   ],
   "source": [
    "## intiate the sql agent  \n",
    "\n",
    "from app.services.sql_agent_instance import sql_agent\n",
    "\n",
    "sql_agent.setup_database_connection(\"\")  # Example connection string"
   ]
  },
  {
   "cell_type": "code",
   "execution_count": 6,
   "id": "0b215f72",
   "metadata": {},
   "outputs": [
    {
     "name": "stdout",
     "output_type": "stream",
     "text": [
      "['departments', 'employees', 'salaries']\n",
      "\n",
      "CREATE TABLE departments (\n",
      "\tid BIGINT GENERATED ALWAYS AS IDENTITY (INCREMENT BY 1 START WITH 1 MINVALUE 1 MAXVALUE 9223372036854775807 CACHE 1 NO CYCLE), \n",
      "\tname TEXT NOT NULL, \n",
      "\tcreated_at TIMESTAMP WITH TIME ZONE DEFAULT now(), \n",
      "\tCONSTRAINT departments_pkey PRIMARY KEY (id)\n",
      ")\n",
      "\n",
      "/*\n",
      "3 rows from departments table:\n",
      "id\tname\tcreated_at\n",
      "1\tEngineering\t2025-09-22 13:16:37.299899+00:00\n",
      "2\tProduct\t2025-09-22 13:16:37.299899+00:00\n",
      "3\tSales\t2025-09-22 13:16:37.299899+00:00\n",
      "*/\n",
      "CREATE TABLE employees (\n",
      "\tid BIGINT GENERATED ALWAYS AS IDENTITY (INCREMENT BY 1 START WITH 1 MINVALUE 1 MAXVALUE 9223372036854775807 CACHE 1 NO CYCLE), \n",
      "\tdepartment_id BIGINT NOT NULL, \n",
      "\tfirst_name TEXT NOT NULL, \n",
      "\tlast_name TEXT NOT NULL, \n",
      "\temail TEXT NOT NULL, \n",
      "\thired_at TIMESTAMP WITH TIME ZONE DEFAULT now(), \n",
      "\tmanager_id BIGINT, \n",
      "\tcreated_at TIMESTAMP WITH TIME ZONE DEFAULT now(), \n",
      "\tCONSTRAINT employees_pkey PRIMARY KEY (id), \n",
      "\tCONSTRAINT employees_department_id_fkey FOREIGN KEY(department_id) REFERENCES departments (id) ON DELETE RESTRICT, \n",
      "\tCONSTRAINT employees_manager_id_fkey FOREIGN KEY(manager_id) REFERENCES employees (id) ON DELETE SET NULL, \n",
      "\tCONSTRAINT employees_email_key UNIQUE NULLS DISTINCT (email)\n",
      ")\n",
      "\n",
      "/*\n",
      "3 rows from employees table:\n",
      "id\tdepartment_id\tfirst_name\tlast_name\temail\thired_at\tmanager_id\tcreated_at\n",
      "1\t1\tAva\tSmith\tava.smith@example.com\t2020-01-15 09:00:00+00:00\tNone\t2025-09-22 13:16:37.299899+00:00\n",
      "2\t1\tLiam\tJohnson\tliam.johnson@example.com\t2020-03-02 09:00:00+00:00\t1\t2025-09-22 13:16:37.299899+00:00\n",
      "3\t1\tOlivia\tWilliams\tolivia.williams@example.com\t2020-05-20 09:00:00+00:00\t1\t2025-09-22 13:16:37.299899+00:00\n",
      "*/\n",
      "CREATE TABLE salaries (\n",
      "\tid BIGINT GENERATED ALWAYS AS IDENTITY (INCREMENT BY 1 START WITH 1 MINVALUE 1 MAXVALUE 9223372036854775807 CACHE 1 NO CYCLE), \n",
      "\temployee_id BIGINT NOT NULL, \n",
      "\tamount NUMERIC(10, 2) NOT NULL, \n",
      "\tfrom_date TIMESTAMP WITH TIME ZONE NOT NULL, \n",
      "\tto_date TIMESTAMP WITH TIME ZONE, \n",
      "\tcreated_at TIMESTAMP WITH TIME ZONE DEFAULT now(), \n",
      "\tCONSTRAINT salaries_pkey PRIMARY KEY (id), \n",
      "\tCONSTRAINT salaries_employee_id_fkey FOREIGN KEY(employee_id) REFERENCES employees (id) ON DELETE CASCADE\n",
      ")\n",
      "\n",
      "/*\n",
      "3 rows from salaries table:\n",
      "id\temployee_id\tamount\tfrom_date\tto_date\tcreated_at\n",
      "1\t1\t83224.21\t2020-01-15 09:00:00+00:00\tNone\t2025-09-22 13:16:37.299899+00:00\n",
      "2\t2\t64804.26\t2020-03-02 09:00:00+00:00\tNone\t2025-09-22 13:16:37.299899+00:00\n",
      "3\t3\t78964.25\t2020-05-20 09:00:00+00:00\tNone\t2025-09-22 13:16:37.299899+00:00\n",
      "*/\n",
      "State check - Tables: False, Schema: False, Query: False, Check: False, Execute: False, Response: False\n",
      "Creating a sql agent chain\n",
      "Agent decision: list_table_tools\n",
      "🔁 Entering router...\n",
      "➡️ Next tool: list_table_tools\n",
      "Tables found: departments, employees, salaries\n",
      "🔁 Entering router...\n",
      "➡️ Next tool: sql_agent\n",
      "State check - Tables: True, Schema: False, Query: False, Check: False, Execute: False, Response: False\n",
      "Creating a sql agent chain\n",
      "Agent decision: get_schema\n",
      "🔁 Entering router...\n",
      "➡️ Next tool: get_schema\n",
      "📘 Getting schema...\n",
      "📘 Schema collected for tables: ['departments', 'employees', 'salaries']\n",
      "🔁 Entering router...\n",
      "➡️ Next tool: sql_agent\n",
      "State check - Tables: True, Schema: True, Query: False, Check: False, Execute: False, Response: False\n",
      "Creating a sql agent chain\n",
      "Agent decision: generate_query\n",
      "🔁 Entering router...\n",
      "➡️ Next tool: generate_query\n",
      "Generating query for: who has the highest salary in the employee table\n",
      "✅ Query generated: SELECT e.first_name, e.last_name FROM employees e JOIN salaries s ON e.id = s.employee_id ORDER BY s.amount DESC LIMIT 1\n",
      "🔁 Entering router...\n",
      "➡️ Next tool: sql_agent\n",
      "State check - Tables: True, Schema: True, Query: True, Check: False, Execute: False, Response: False\n",
      "Creating a sql agent chain\n",
      "Agent decision: check_query\n",
      "🔁 Entering router...\n",
      "➡️ Next tool: check_query\n",
      "Checking query: SELECT e.first_name, e.last_name FROM employees e JOIN salaries s ON e.id = s.employee_id ORDER BY s.amount DESC LIMIT 1\n",
      "Query checked: sql\n",
      "SELECT e.first_name, e.last_name\n",
      "FROM employees e\n",
      "JOIN salaries s ON e.id = s.employee_id\n",
      "ORDER BY s.amount DESC\n",
      "LIMIT 1;\n",
      "\n",
      "🔁 Entering router...\n",
      "➡️ Next tool: sql_agent\n",
      "State check - Tables: True, Schema: True, Query: True, Check: True, Execute: False, Response: False\n",
      "Creating a sql agent chain\n",
      "Agent decision: execute_query\n",
      "🔁 Entering router...\n",
      "➡️ Next tool: execute_query\n",
      "Executing query: sql\n",
      "SELECT e.first_name, e.last_name\n",
      "FROM employees e\n",
      "JOIN salaries s ON e.id = s.employee_id\n",
      "ORDER BY s.amount DESC\n",
      "LIMIT 1;\n",
      "\n",
      "Query results: Error: (psycopg2.errors.SyntaxError) syntax error at or near \"sql\"\n",
      "LINE 1: sql\n",
      "        ^\n",
      "\n",
      "[SQL: sql\n",
      "SELECT e.first_name, e.last_name\n",
      "FROM employees e\n",
      "JOIN salaries s ON e.id = s.employee_id\n",
      "ORDER BY s.amount DESC\n",
      "LIMIT 1;\n",
      "]\n",
      "(Background on this error at: https://sqlalche.me/e/20/f405)\n",
      "🔁 Entering router...\n",
      "➡️ Next tool: sql_agent\n",
      "State check - Tables: True, Schema: True, Query: True, Check: True, Execute: True, Response: False\n",
      "Creating a sql agent chain\n",
      "Agent decision: response\n",
      "🔁 Entering router...\n",
      "➡️ Next tool: response\n",
      "Creating final response...\n",
      "Response created: I'm sorry, but I encountered an error while trying to retrieve that information.\n",
      "🔁 Entering router...\n",
      "➡️ Next tool: sql_agent\n"
     ]
    },
    {
     "data": {
      "text/plain": [
       "\"I'm sorry, but I encountered an error while trying to retrieve that information.\""
      ]
     },
     "execution_count": 6,
     "metadata": {},
     "output_type": "execute_result"
    }
   ],
   "source": [
    "sql_agent.execute_query(\"who has the highest salary in the employee table\")  # Example query"
   ]
  },
  {
   "cell_type": "markdown",
   "id": "cec16481",
   "metadata": {},
   "source": []
  },
  {
   "cell_type": "code",
   "execution_count": null,
   "id": "4c693516",
   "metadata": {},
   "outputs": [],
   "source": []
  },
  {
   "cell_type": "markdown",
   "id": "33508f51",
   "metadata": {},
   "source": []
  },
  {
   "cell_type": "code",
   "execution_count": null,
   "id": "08a2985c",
   "metadata": {},
   "outputs": [],
   "source": []
  },
  {
   "cell_type": "code",
   "execution_count": null,
   "metadata": {},
   "outputs": [],
   "source": []
  },
  {
   "cell_type": "code",
   "execution_count": null,
   "id": "892b19a9",
   "metadata": {},
   "outputs": [],
   "source": []
  },
  {
   "cell_type": "code",
   "execution_count": null,
   "metadata": {},
   "outputs": [],
   "source": []
  }
 ],
 "metadata": {
  "kernelspec": {
   "display_name": "backend",
   "language": "python",
   "name": "python3"
  },
  "language_info": {
   "codemirror_mode": {
    "name": "ipython",
    "version": 3
   },
   "file_extension": ".py",
   "mimetype": "text/x-python",
   "name": "python",
   "nbconvert_exporter": "python",
   "pygments_lexer": "ipython3",
   "version": "3.13.3"
  }
 },
 "nbformat": 4,
 "nbformat_minor": 5
}
